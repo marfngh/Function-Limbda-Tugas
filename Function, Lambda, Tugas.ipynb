{
  "nbformat": 4,
  "nbformat_minor": 0,
  "metadata": {
    "colab": {
      "provenance": []
    },
    "kernelspec": {
      "name": "python3",
      "display_name": "Python 3"
    },
    "language_info": {
      "name": "python"
    }
  },
  "cells": [
    {
      "cell_type": "markdown",
      "source": [
        "# Function\n"
      ],
      "metadata": {
        "id": "LX7ZkikLfavi"
      }
    },
    {
      "cell_type": "markdown",
      "source": [
        "Function (fungsi) adalah sebuah blok statement yang hanya akan dijalankan saat ia panggil"
      ],
      "metadata": {
        "id": "_8WSqQrKwT2M"
      }
    },
    {
      "cell_type": "markdown",
      "source": [
        "Fungsi len() untuk mengukur jumlah elemen dalam sebuah list dan fungsi print() untuk menampilkan pesan pada layar konsol merupakan contoh dari bentuk fungsi yang telah disediakan oleh bahasa pemrograman Python dengan kata lain built-in functions. Selain fungsi yang telah disediakan Python, Python mengizinkan untuk mendeklarasikan fungsi dalam kode yang dituliskan yang dikenal dengan user defined function."
      ],
      "metadata": {
        "id": "bh5hymROwta5"
      }
    },
    {
      "cell_type": "code",
      "execution_count": null,
      "metadata": {
        "id": "olYc90ocfOKK"
      },
      "outputs": [],
      "source": [
        "def nama_fungsi(argument):\n",
        "statement_1\n",
        "\n",
        "statement_n\n",
        "return returned_value"
      ]
    },
    {
      "cell_type": "markdown",
      "source": [
        "* nama_fungsi adalah untuk fungsi yang anda definisikan, memiliki aturan seperti penamaan variabel\n",
        "* argument adalah variabel masukan ke fungsi, biasa tanpa variabel, satu variabel atau lebih\n",
        "* statement_1.. statement_n adalah algoritma yang telah anda transfer dalam bahasa python yang merupakan inti dari fungsi yang anda definisikan. Seluruh statement adalah menjorok (indent) ke dalam seperti yang pernah anda peljari pada conditioning dan looping\n",
        "* return_value adalah variabel output dari fungsi anda, bisa tanpa variabel, satu variabel atau lebih"
      ],
      "metadata": {
        "id": "A2e_5_A4zLgi"
      }
    },
    {
      "cell_type": "markdown",
      "source": [
        "# Argumen dan Parameter"
      ],
      "metadata": {
        "id": "fWuMAuZzfigA"
      }
    },
    {
      "cell_type": "markdown",
      "source": [
        "* Parameter adalah varabel yang digunakan dalam deklarasi fungsi\n",
        "* Argumen adalah nilai yang diberikan saat pemanggilan fungsi"
      ],
      "metadata": {
        "id": "qtmRaUdB0PRz"
      }
    },
    {
      "cell_type": "code",
      "source": [
        "def print_nama(nama): #'nama' adalah parameter\n",
        "  print(nama)\n",
        "\n",
        "print_nama('Bunga') #'Bunga' adalah argumen"
      ],
      "metadata": {
        "colab": {
          "base_uri": "https://localhost:8080/"
        },
        "id": "un4TAfi7fhuU",
        "outputId": "f6f4611f-93ac-47c5-e11b-9c5b77006fe0"
      },
      "execution_count": 1,
      "outputs": [
        {
          "output_type": "stream",
          "name": "stdout",
          "text": [
            "Bunga\n"
          ]
        }
      ]
    },
    {
      "cell_type": "markdown",
      "source": [
        "# Argumen posisi dan kata kunci"
      ],
      "metadata": {
        "id": "mh5a-bXOf0z5"
      }
    },
    {
      "cell_type": "markdown",
      "source": [
        "Kita bisa menyatakan argumen posisi atau kata kunci. Beberapa manfaat argumen kata kunci dapat berupa:\n",
        "* Kita dapat menyebut argumen dengan mereka untuk menjelaskan apa yang merekan wakili\n",
        "* Kita dapat mengatur ulang argumen dengan cara membuatnya paling mudah dibaca"
      ],
      "metadata": {
        "id": "SwtjeE9V0rhh"
      }
    },
    {
      "cell_type": "code",
      "source": [
        "def angka(a, b, c):\n",
        "    print(a, b, c)\n",
        "\n",
        "#argumen posisi\n",
        "#argumen berdasarkan posisinya\n",
        "angka(1, 2, 3)\n",
        "\n",
        "#argumen berdasarkan kata kuncinya\n",
        "angka(a=1, b=2, c=3)\n",
        "angka(c=3, b=2, a=1)\n",
        "\n",
        "#catatan: jika sudah diberi kunci maka urutan tidak penting\n",
        "\n",
        "#campuran antara argumen posisi dan kata kunci\n",
        "angka(1, b=2, c=3)\n",
        "\n",
        "#ini tidak diijinkan:\n",
        "#foo(1, b=2, 3) #argumen posisiona setelah argumen kunci\n",
        "#foo(1, b=2, a=3) #terdapat dua nilai untuk argumen kunci 'a'"
      ],
      "metadata": {
        "id": "6EaS0ucAfzKq",
        "colab": {
          "base_uri": "https://localhost:8080/"
        },
        "outputId": "dfe1cba0-7d17-46ed-edae-8e3ccf135205"
      },
      "execution_count": null,
      "outputs": [
        {
          "output_type": "stream",
          "name": "stdout",
          "text": [
            "1 2 3\n",
            "1 2 3\n",
            "1 2 3\n",
            "1 2 3\n"
          ]
        }
      ]
    },
    {
      "cell_type": "markdown",
      "source": [
        "# Argumen Default"
      ],
      "metadata": {
        "id": "Vv2A4I9QgG2y"
      }
    },
    {
      "cell_type": "markdown",
      "source": [
        "Fungsi dapat memiliki argumen default dengan nilai yang telah ditentukan sebelumnya. Argumen ini dapat ditinggalkan dan nilai default kemudian diteruskan ke fungsi, atau argumen dapat dirubah dengan nilai yang berbeda. Perhatikan bahwa argumen default harus ditentukan sebagai **parameter terakhir** dalam suatu fungsi."
      ],
      "metadata": {
        "id": "JIHlSebd2Y9S"
      }
    },
    {
      "cell_type": "code",
      "source": [
        "#argumen default\n",
        "def angka2(a, b, c, d=4):\n",
        "    print(a, b, c, d)\n",
        "\n",
        "angka2(1, 2, 3, 4)\n",
        "angka2(1, b=2, c=3, d=100)\n",
        "\n",
        "#Argumen default harus diletakkan terakhir"
      ],
      "metadata": {
        "id": "NV1DOv2-gDZZ",
        "colab": {
          "base_uri": "https://localhost:8080/"
        },
        "outputId": "2f79d8e9-e6c1-4376-8d7d-5c5d7d98325f"
      },
      "execution_count": null,
      "outputs": [
        {
          "output_type": "stream",
          "name": "stdout",
          "text": [
            "1 2 3 4\n",
            "1 2 3 100\n"
          ]
        }
      ]
    },
    {
      "cell_type": "markdown",
      "source": [
        "# Praktik Membuat Fungsi"
      ],
      "metadata": {
        "id": "MV8NRRbMgWfn"
      }
    },
    {
      "cell_type": "code",
      "source": [
        "x = 1\n",
        "y = 2\n",
        "x*y"
      ],
      "metadata": {
        "colab": {
          "base_uri": "https://localhost:8080/"
        },
        "id": "_b-h8mI6gZnb",
        "outputId": "1325c089-87e6-4378-830d-43b57a2c574a"
      },
      "execution_count": null,
      "outputs": [
        {
          "output_type": "execute_result",
          "data": {
            "text/plain": [
              "2"
            ]
          },
          "metadata": {},
          "execution_count": 4
        }
      ]
    },
    {
      "cell_type": "code",
      "source": [
        "def penjumlahan(x,y): #input\n",
        "  a=x+y               #proses\n",
        "  return a            #output\n",
        "\n",
        "penjumlahan(1, 2)     #menggunakan fungsi"
      ],
      "metadata": {
        "colab": {
          "base_uri": "https://localhost:8080/"
        },
        "id": "noeiW9tt3S3-",
        "outputId": "82f521d1-2393-46e2-cc7d-ef7d8e539a5b"
      },
      "execution_count": null,
      "outputs": [
        {
          "output_type": "execute_result",
          "data": {
            "text/plain": [
              "3"
            ]
          },
          "metadata": {},
          "execution_count": 7
        }
      ]
    },
    {
      "cell_type": "markdown",
      "source": [
        "Penjumlahan yang memungkinkan untuk tiga bilangan"
      ],
      "metadata": {
        "id": "JjH5ibuq3q42"
      }
    },
    {
      "cell_type": "code",
      "source": [
        "def penjumlahan(x,y,z=None):\n",
        "    if (z==None):\n",
        "        return x+y\n",
        "    else:\n",
        "        return x+y+z\n",
        "\n",
        "print(penjumlahan(1, 2))\n",
        "print(penjumlahan(1, 2, 3))"
      ],
      "metadata": {
        "id": "2EOWY8qwgdfR",
        "colab": {
          "base_uri": "https://localhost:8080/"
        },
        "outputId": "b5acb896-a489-4919-9224-8aa0590e1fbf"
      },
      "execution_count": null,
      "outputs": [
        {
          "output_type": "stream",
          "name": "stdout",
          "text": [
            "3\n",
            "6\n"
          ]
        }
      ]
    },
    {
      "cell_type": "markdown",
      "source": [
        "Menyimpan hasil fungsi dalam variabel"
      ],
      "metadata": {
        "id": "AonWZd1s4Ela"
      }
    },
    {
      "cell_type": "code",
      "source": [
        "def penjumlahan(x,y):\n",
        "    return x+y\n",
        "\n",
        "a = penjumlahan\n",
        "a(1, 2)"
      ],
      "metadata": {
        "colab": {
          "base_uri": "https://localhost:8080/"
        },
        "id": "qPTcW5CJ4JHO",
        "outputId": "257a1ec2-2ad2-45fb-9c1e-70e03f089f48"
      },
      "execution_count": null,
      "outputs": [
        {
          "output_type": "execute_result",
          "data": {
            "text/plain": [
              "3"
            ]
          },
          "metadata": {},
          "execution_count": 10
        }
      ]
    },
    {
      "cell_type": "markdown",
      "source": [
        "# Latihan 1"
      ],
      "metadata": {
        "id": "nwoAhMQw4WQ4"
      }
    },
    {
      "cell_type": "markdown",
      "source": [
        "Buatlah Function phytagoras dengan input argumennya panjang tinggi dan alas segitiga untuk menghasilkan output nilai panjang sisi miring"
      ],
      "metadata": {
        "id": "l-FLNwMY4ZBK"
      }
    },
    {
      "cell_type": "code",
      "source": [
        "def phytagoras(tinggi,alas):\n",
        "  sisi_miring = ((tinggi*tinggi) + (alas*alas))**(1/2)\n",
        "  return sisi_miring"
      ],
      "metadata": {
        "id": "n-_BoEt14sre"
      },
      "execution_count": 4,
      "outputs": []
    },
    {
      "cell_type": "code",
      "source": [
        "phytagoras(4,3)"
      ],
      "metadata": {
        "colab": {
          "base_uri": "https://localhost:8080/"
        },
        "id": "7zFX74wX5Tcw",
        "outputId": "d11fa13d-13db-482e-ea47-1eb61aba639c"
      },
      "execution_count": 22,
      "outputs": [
        {
          "output_type": "execute_result",
          "data": {
            "text/plain": [
              "5.0"
            ]
          },
          "metadata": {},
          "execution_count": 22
        }
      ]
    },
    {
      "cell_type": "markdown",
      "source": [
        "# Latihan 2"
      ],
      "metadata": {
        "id": "YOrgP-OO4uop"
      }
    },
    {
      "cell_type": "markdown",
      "source": [
        "Buatlah function luas permukaan balok dengan input argumennya panjang, lebar, dan tinggi dari balok untuk menghasilkan output nilai luas permukaan balok tersebut."
      ],
      "metadata": {
        "id": "cY97wbDh4sPL"
      }
    },
    {
      "cell_type": "code",
      "source": [
        "panjang = 7\n",
        "lebar = 3\n",
        "tinggi = 10"
      ],
      "metadata": {
        "id": "b7b5LFzK4pt7"
      },
      "execution_count": 27,
      "outputs": []
    },
    {
      "cell_type": "code",
      "source": [
        "def luas_permukaan_balok(panjang, lebar, tinggi):\n",
        "    luas_permukaan = 2 * (panjang * lebar + panjang * tinggi + lebar * tinggi)\n",
        "    return luas_permukaan"
      ],
      "metadata": {
        "id": "p38Rp5Sm5dVw"
      },
      "execution_count": 28,
      "outputs": []
    },
    {
      "cell_type": "code",
      "source": [
        "luas_permukaan_balok(7,3,10)"
      ],
      "metadata": {
        "colab": {
          "base_uri": "https://localhost:8080/"
        },
        "id": "3NqdOmlh5dI0",
        "outputId": "0a3da717-446e-4454-e16f-96ead1c2a1f9"
      },
      "execution_count": 29,
      "outputs": [
        {
          "output_type": "execute_result",
          "data": {
            "text/plain": [
              "242"
            ]
          },
          "metadata": {},
          "execution_count": 29
        }
      ]
    },
    {
      "cell_type": "markdown",
      "source": [
        "# Lambda"
      ],
      "metadata": {
        "id": "Bxb7TDwyg2Sn"
      }
    },
    {
      "cell_type": "markdown",
      "source": [
        "Fungsi Lambda adalah fungsi anonim one line yang didefinisikan tanpa nama. Fungsi lambda dapat mengambil sejumlah argument, tetapi hanya dapat memiliki satu expression. Sementara fungsi normal didefinisikan menggunakan kata kunci def, dalam Python fungsi anonim didefinisikan menggunakan kata kunci lambda."
      ],
      "metadata": {
        "id": "g7QupaXx6AL3"
      }
    },
    {
      "cell_type": "markdown",
      "source": [
        "Fungsi Lambda digunakan ketika fungsi sederhana hanya digunakan sekali atau untuk waktu yang singkat dalam kode kita. Penggunaannya yang paling umum adalah sebagai argumen untuk fungsi tingkat tinggi (fungsi yang menggunakan fungsi lain sebagai argument)."
      ],
      "metadata": {
        "id": "gu5xAOr87EYG"
      }
    },
    {
      "cell_type": "markdown",
      "source": [
        "Lambda expression di python adalah sebuah ekspressi untuk membuat fungsi."
      ],
      "metadata": {
        "id": "nKVmV0wA8wC0"
      }
    },
    {
      "cell_type": "markdown",
      "source": [
        "Lambda sendiri berasal dari teori kalkulus, yakni Lambda Calculus yang dikenalkan oleh Alonzo Church di tahun 1930."
      ],
      "metadata": {
        "id": "KUz4pYt38vvk"
      }
    },
    {
      "cell_type": "markdown",
      "source": [
        "Berkat lambda, kita bisa membuat fungsi tanpa nama atau dikenalkan oleh Anonymous function."
      ],
      "metadata": {
        "id": "53pGzgQA8vb1"
      }
    },
    {
      "cell_type": "markdown",
      "source": [
        "Lambda bisa memiliki lebih dari satu argumen atau parameter, tapi hanya bisa memiliki satu ekspresi atau isi."
      ],
      "metadata": {
        "id": "kw0hJ3_e8EUZ"
      }
    },
    {
      "cell_type": "code",
      "source": [
        "greeting = lambda name: print(f\"hello, {name}\")"
      ],
      "metadata": {
        "id": "VjIlLts5g3Gv"
      },
      "execution_count": 31,
      "outputs": []
    },
    {
      "cell_type": "markdown",
      "source": [
        "Karena fngsi lambda tidak punya nama, jadi kita butuh bariabel untuk menyimpannya."
      ],
      "metadata": {
        "id": "fg9ZWk049zSC"
      }
    },
    {
      "cell_type": "markdown",
      "source": [
        "Nanti saat mau kita panggil, kita tinggal tuliskan saja nama variabelnya seperti ini:"
      ],
      "metadata": {
        "id": "uSfIm3Jv9y_O"
      }
    },
    {
      "cell_type": "code",
      "source": [
        "greeting(\"Bunga\")\n",
        "greeting(\"Marfungah\")"
      ],
      "metadata": {
        "colab": {
          "base_uri": "https://localhost:8080/"
        },
        "id": "5Layqjvq9xB-",
        "outputId": "a3015e4e-993a-45e5-fce1-37844e6d2b82"
      },
      "execution_count": 32,
      "outputs": [
        {
          "output_type": "stream",
          "name": "stdout",
          "text": [
            "hello, Bunga\n",
            "hello, Marfungah\n"
          ]
        }
      ]
    },
    {
      "cell_type": "markdown",
      "source": [
        "Beberapa contoh penggunaannya fungsi Lambda"
      ],
      "metadata": {
        "id": "aDXm8zIq-YDW"
      }
    },
    {
      "cell_type": "code",
      "source": [
        "#Fungsi Lambda untuk menambahkan angka 10 kepada argument input\n",
        "f = lambda x: x+10\n",
        "val1 = f(5)\n",
        "val2 = f(100)\n",
        "print(val1,val2)"
      ],
      "metadata": {
        "colab": {
          "base_uri": "https://localhost:8080/"
        },
        "id": "JSarFDLJ-M1T",
        "outputId": "971a2a8c-cf34-4575-fcc6-139267b54502"
      },
      "execution_count": null,
      "outputs": [
        {
          "output_type": "stream",
          "name": "stdout",
          "text": [
            "15 110\n"
          ]
        }
      ]
    },
    {
      "cell_type": "code",
      "source": [
        "#Fungsi Lambda untuk mengalihkan dua argumen input dan menampilakn hasilnya\n",
        "f = lambda x,y:x*y\n",
        "val3 = f(2,10)\n",
        "val4 = f(7,5)\n",
        "print(val3,val4)"
      ],
      "metadata": {
        "colab": {
          "base_uri": "https://localhost:8080/"
        },
        "id": "adMfbrDr-zWH",
        "outputId": "46047faa-071e-41e4-8528-2f5e69718f6e"
      },
      "execution_count": null,
      "outputs": [
        {
          "output_type": "stream",
          "name": "stdout",
          "text": [
            "20 35\n"
          ]
        }
      ]
    },
    {
      "cell_type": "markdown",
      "source": [
        "# Anonymous Function"
      ],
      "metadata": {
        "id": "jIIAaXT__sRc"
      }
    },
    {
      "cell_type": "markdown",
      "source": [
        "Karena lambda adalah anonymous function, ia akan bebas menggunakan nama apa saja. Dengan kata lain, fungsi lambda bisa disimpan di variabel mana pun. Ini tentunya tidak bisa dilakukan oleh fungsi yang dibuat dengan def. Coba perhatikan ini:"
      ],
      "metadata": {
        "id": "-DhAN6ZE_sCk"
      }
    },
    {
      "cell_type": "code",
      "source": [
        "def say_hello(nama):\n",
        "  print(f\"hello{nama}, apa kabar?\")\n",
        "\n",
        "ucapin = saya_hello(nama)"
      ],
      "metadata": {
        "id": "mQpoHF28_LYH"
      },
      "execution_count": null,
      "outputs": []
    },
    {
      "cell_type": "markdown",
      "source": [
        "Saya mencoba membuat fungsi say_hello() dengan def, kemudian menyimpannya ke dalam variabel ucapin. Tapi malah eror."
      ],
      "metadata": {
        "id": "tH6iSvRhAnSf"
      }
    },
    {
      "cell_type": "markdown",
      "source": [
        "Ini karena fungsi tersebut bukanlah fungsi anonymous yang boleh diubah-ubah namanya."
      ],
      "metadata": {
        "id": "EeQ-1KZFAm6s"
      }
    },
    {
      "cell_type": "markdown",
      "source": [
        "Lalu coba perhatikan di baris terakhir, fungsi lambda greeting() yang sudah disimpan lagi ke variabel yang berbeda, yakni sapa."
      ],
      "metadata": {
        "id": "LScmjB5AAmrC"
      }
    },
    {
      "cell_type": "code",
      "source": [
        "greeting = lambda name: print(f\"hello, {name}\")\n",
        "sapa = greeting\n",
        "greeting(\"earth\")\n",
        "sapa(\"moon\")"
      ],
      "metadata": {
        "colab": {
          "base_uri": "https://localhost:8080/"
        },
        "id": "jVbT-3GDAkU2",
        "outputId": "cf51cd3e-c0e9-4340-d147-b75b9c9d01e9"
      },
      "execution_count": 35,
      "outputs": [
        {
          "output_type": "stream",
          "name": "stdout",
          "text": [
            "hello, earth\n",
            "hello, moon\n"
          ]
        }
      ]
    },
    {
      "cell_type": "markdown",
      "source": [
        "Hasilnya tidak eror, karena ini adalah fungsi anonymous atau lambda"
      ],
      "metadata": {
        "id": "tHyKGbCWCRrW"
      }
    },
    {
      "cell_type": "markdown",
      "source": [
        "# Eksekusi Lambda Secara Langsung"
      ],
      "metadata": {
        "id": "_SIBeftqCRXr"
      }
    },
    {
      "cell_type": "markdown",
      "source": [
        "Eksekusi lambda secara langsung kelebihan fungsi dibandingkan def adalah bisa kita eksekusi langsung."
      ],
      "metadata": {
        "id": "MpYkEmL7CQ99"
      }
    },
    {
      "cell_type": "markdown",
      "source": [
        "Contohnya:"
      ],
      "metadata": {
        "id": "OOjRbGNyCQuh"
      }
    },
    {
      "cell_type": "code",
      "source": [
        "(lambda x,y: x**2 + y**2)(4,6)"
      ],
      "metadata": {
        "colab": {
          "base_uri": "https://localhost:8080/"
        },
        "id": "wi263oEsB_O_",
        "outputId": "423a24eb-2126-4c38-a609-7f4860832667"
      },
      "execution_count": null,
      "outputs": [
        {
          "output_type": "execute_result",
          "data": {
            "text/plain": [
              "52"
            ]
          },
          "metadata": {},
          "execution_count": 25
        }
      ]
    },
    {
      "cell_type": "markdown",
      "source": [
        "Tanda kurung ysng mengapit fungsi lambda artinya akan langsung mengeksekusi fungsi tersebut."
      ],
      "metadata": {
        "id": "JrvclafXC-AW"
      }
    },
    {
      "cell_type": "markdown",
      "source": [
        "Lalu kurung berikutnya akan berisi parameter"
      ],
      "metadata": {
        "id": "ujQy-nf3C9kw"
      }
    },
    {
      "cell_type": "markdown",
      "source": [
        "Angka 4 dan 6 adalah parameter x dan y yang akan diberikan kepada fungsi lambda."
      ],
      "metadata": {
        "id": "m8PKpOCpC9Mn"
      }
    },
    {
      "cell_type": "markdown",
      "source": [
        "Maka kita akan langsung mendapatkan hasilnya, yakni 42 + 62 = 52"
      ],
      "metadata": {
        "id": "EJhzcJ04C81H"
      }
    },
    {
      "cell_type": "markdown",
      "source": [
        "Hasil dari eksekusi ini bisa juga kita simpan ke dalam variabel"
      ],
      "metadata": {
        "id": "ThgPSNJmC8me"
      }
    },
    {
      "cell_type": "code",
      "source": [
        "hasil = (lambda x,y: x**2 + y**2)(4,6)"
      ],
      "metadata": {
        "id": "8dvbq7H-C4Jv"
      },
      "execution_count": null,
      "outputs": []
    },
    {
      "cell_type": "markdown",
      "source": [
        "# Mengapa Harus Pakai Lambda"
      ],
      "metadata": {
        "id": "X043BLZfEfAf"
      }
    },
    {
      "cell_type": "markdown",
      "source": [
        "Kita memang tidak harus selalu menggunakan Lambda, tapi dalam kasus tertentu lambda lebih baik dibandingkan fungs biasa."
      ],
      "metadata": {
        "id": "2GCJKRzBEeq3"
      }
    },
    {
      "cell_type": "markdown",
      "source": [
        "Lambda biasanya dibutuhkan saat ingin membuat fungsi dalam satu baris."
      ],
      "metadata": {
        "id": "G85bERxgEeRE"
      }
    },
    {
      "cell_type": "markdown",
      "source": [
        "Biasanya saat menggunakan fungsi-fungsi seperti filter(), map(), dan reduce() kita akan membuatuhkan lambda."
      ],
      "metadata": {
        "id": "f5XO6PbJEd5r"
      }
    },
    {
      "cell_type": "markdown",
      "source": [
        "Mengapa ?"
      ],
      "metadata": {
        "id": "K9l2ncbEEdj7"
      }
    },
    {
      "cell_type": "markdown",
      "source": [
        "Karena di fungsi-fungsi tersebut membutuhkan parameter fungsi."
      ],
      "metadata": {
        "id": "MGp8tV9EEdUW"
      }
    },
    {
      "cell_type": "markdown",
      "source": [
        "Contoh:"
      ],
      "metadata": {
        "id": "FB7Q3ZPVEdGG"
      }
    },
    {
      "cell_type": "code",
      "source": [
        "bilangan = [10,2,8,7,5,4,3,11,0,1]\n",
        "filtered_result = map (lambda x: x*x, bilangan)\n",
        "print(list(filtered_result))"
      ],
      "metadata": {
        "id": "t6uE7HOXD0-o",
        "colab": {
          "base_uri": "https://localhost:8080/"
        },
        "outputId": "821ce0c7-6e9a-4a34-e996-605f8a387888"
      },
      "execution_count": null,
      "outputs": [
        {
          "output_type": "stream",
          "name": "stdout",
          "text": [
            "[100, 4, 64, 49, 25, 16, 9, 121, 0, 1]\n"
          ]
        }
      ]
    },
    {
      "cell_type": "markdown",
      "source": [
        "Pada fungsi map() kita memberikan parameter dengan fungsi lambda."
      ],
      "metadata": {
        "id": "R3qX_qe7F3f_"
      }
    },
    {
      "cell_type": "markdown",
      "source": [
        "Mengapa bisa begitu ?"
      ],
      "metadata": {
        "id": "eJ8TZuBqF3Pn"
      }
    },
    {
      "cell_type": "markdown",
      "source": [
        "Karena Lambda bisa disimpan ke dalam variabel, otomatis dia akan bisa juga jadi parameter."
      ],
      "metadata": {
        "id": "OCQVE_fTF3AW"
      }
    },
    {
      "cell_type": "markdown",
      "source": [
        "Satu lagi contoh dengan fungsi filter()"
      ],
      "metadata": {
        "id": "gBevJa8-F2w_"
      }
    },
    {
      "cell_type": "code",
      "source": [
        "#Menentukan bilangan genap\n",
        "genap = lambda x: x%2 == 0\n",
        "list(filter(genap, range(11)))"
      ],
      "metadata": {
        "colab": {
          "base_uri": "https://localhost:8080/"
        },
        "id": "wJgGStiiFxPe",
        "outputId": "3e86282c-cc73-4ee7-dfc7-c8b600f6ce5a"
      },
      "execution_count": null,
      "outputs": [
        {
          "output_type": "execute_result",
          "data": {
            "text/plain": [
              "[0, 2, 4, 6, 8, 10]"
            ]
          },
          "metadata": {},
          "execution_count": 28
        }
      ]
    },
    {
      "cell_type": "markdown",
      "source": [
        "# Tugas PSDS 11"
      ],
      "metadata": {
        "id": "u1SAZ1PZHgT0"
      }
    },
    {
      "cell_type": "markdown",
      "source": [
        "Buatlah fungsi lambda untuk menghitung luas dari persegi panjang"
      ],
      "metadata": {
        "id": "J7-DZ1NbHlKK"
      }
    },
    {
      "cell_type": "code",
      "source": [
        "luas_pp = (lambda panjang,lebar: panjang*lebar)(9,3)\n",
        "luas_pp"
      ],
      "metadata": {
        "colab": {
          "base_uri": "https://localhost:8080/"
        },
        "id": "c92l2EOcHAf_",
        "outputId": "fee1ad1e-ea36-4741-9572-b011a5e74ffb"
      },
      "execution_count": 36,
      "outputs": [
        {
          "output_type": "execute_result",
          "data": {
            "text/plain": [
              "27"
            ]
          },
          "metadata": {},
          "execution_count": 36
        }
      ]
    },
    {
      "cell_type": "markdown",
      "source": [
        "Buatlah fungsi lambda untuk menghitung luas dari segitiga"
      ],
      "metadata": {
        "id": "lXhIdJgdHpGN"
      }
    },
    {
      "cell_type": "code",
      "source": [
        "luas_segitiga = (lambda alas,tinggi: 0.5*alas*tinggi)(10,9)\n",
        "luas_segitiga"
      ],
      "metadata": {
        "colab": {
          "base_uri": "https://localhost:8080/"
        },
        "id": "rEm1hAHTHxEJ",
        "outputId": "653e92aa-91fd-406f-a798-269b74396d9b"
      },
      "execution_count": 38,
      "outputs": [
        {
          "output_type": "execute_result",
          "data": {
            "text/plain": [
              "45.0"
            ]
          },
          "metadata": {},
          "execution_count": 38
        }
      ]
    }
  ]
}